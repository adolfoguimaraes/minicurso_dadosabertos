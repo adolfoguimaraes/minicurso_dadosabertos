{
  "nbformat": 4,
  "nbformat_minor": 0,
  "metadata": {
    "colab": {
      "name": "Material.ipynb",
      "provenance": [],
      "collapsed_sections": [
        "OvTPOFMTi_mi",
        "iYoHK1k88u2p"
      ],
      "toc_visible": true,
      "mount_file_id": "1aYAz_tOUoexp1ey05WLvGrca1XBSlntC",
      "authorship_tag": "ABX9TyMiLh6M3QFGjlQ42GXufgqk",
      "include_colab_link": true
    },
    "kernelspec": {
      "name": "python3",
      "display_name": "Python 3"
    },
    "language_info": {
      "name": "python"
    }
  },
  "cells": [
    {
      "cell_type": "markdown",
      "metadata": {
        "id": "view-in-github",
        "colab_type": "text"
      },
      "source": [
        "<a href=\"https://colab.research.google.com/github/adolfoguimaraes/minicurso_dadosabertos/blob/main/Material.ipynb\" target=\"_parent\"><img src=\"https://colab.research.google.com/assets/colab-badge.svg\" alt=\"Open In Colab\"/></a>"
      ]
    },
    {
      "cell_type": "markdown",
      "metadata": {
        "id": "0tYDKavsF4ib"
      },
      "source": [
        "# Minicurso: Coletando, processando e visualizando dados abertos\n",
        "\n",
        "Esse material faz parte do minicurso **Coletando, processando e visualizando dados abertos** ministrado pelo professor **Adolfo Guimarães**. Maiores informações, pode entrar em contato pelo e-mail: adolfo@data2learning.com.\n",
        "\n",
        "Vamos trabalhar com três cenários: eleições, educação e covida. Vamos coletar, fazer alguns processamentos e construir algumas visualizações. \n",
        "\n",
        "Par o minicurso, já separei os dados em uma pasta que será compartilhada com vocês. No entanto, vou mostrar onde e como coletei os dados. Vale lembrar que oos dados podem está disponíveis em diferentes formatos de diferentes plataformas. No caso dos dados abertos, muitos são disponibilizados pelos órgãos públicos em formato CSV, Excel ou até mesmo PDF. A depender do formato disponibilizado, é necessário carrega-los e processá-los de diferentes maneiras.\n",
        "\n",
        "Neste minicurso, os dados estão em formato Excel ou CSV. \n",
        "\n",
        "Esse notebook contém toda a parte de código necessário. Organizei dessa forma para que vocês possam aproveitar melhor o minicurso executando e modificando o que está feito. Acredito melhor para explicar o assunto. No entanto, vou propor algumas modificações para vocês fazerem ao longo do minicurso.\n",
        "\n",
        "Vamos começar? :) \n",
        "\n",
        "![](https://camo.githubusercontent.com/3459bc23ab518d2f1eb4ab54057914eac02e3d5c/68747470733a2f2f6d656469612e67697068792e636f6d2f6d656469612f336f37544b554d3349674a4258326173394f2f67697068792e6769663f6369643d65636630356534376a35347a6a656c306463743479387464736e646162736179716666736d696977317935666d757561267269643d67697068792e6769662663743d67)"
      ]
    },
    {
      "cell_type": "markdown",
      "metadata": {
        "id": "8YEsYA1NKdrk"
      },
      "source": [
        "## Quais bibliotecas serão utilizadas?\n",
        "\n",
        "Nessa etapa basicamente vamos utilizar a biblioteca [pandas](https://pandas.pydata.org/) que é uma biblioteca de análise de dados em Python que permite carregar os dados e fazer diferentes operações como se estivéssemos trabalhando diretamente com uma tabela. \n",
        "\n",
        "Para visualização vamos utilizar a biblioteca [Plotly](https://plotly.com/graphing-libraries/). Vale ressaltar que o python possui diversas bibliotecas para visualização. A escolha depende muito do objetivo que vocês querem com a visualização e com a facilidade de uso de cada pessoal. [Neste link](https://mode.com/blog/python-data-visualization-libraries/) vocês podem encontrar uma lista dessas bibliotecas com um breve comentário sobre cada uma. \n",
        "\n",
        "\n",
        "\n"
      ]
    },
    {
      "cell_type": "code",
      "metadata": {
        "id": "OlxFuoJ5WKfp"
      },
      "source": [
        "# Para o minicurso precisamos atualizar a biblioteca para versão mais nova. \n",
        "\n",
        "!pip install --upgrade plotly"
      ],
      "execution_count": null,
      "outputs": []
    },
    {
      "cell_type": "code",
      "metadata": {
        "id": "uh2kxkIiF21R"
      },
      "source": [
        "# imports necessários \n",
        "\n",
        "import pandas as pd \n",
        "import plotly.express as px\n",
        "import plotly.graph_objects as go\n",
        "from plotly.subplots import make_subplots\n",
        "import ipywidgets as widgets"
      ],
      "execution_count": null,
      "outputs": []
    },
    {
      "cell_type": "markdown",
      "metadata": {
        "id": "OvTPOFMTi_mi"
      },
      "source": [
        "## O que vamos fazer?\n",
        "\n",
        "Vamos trabalhar com alguns dados abertos em 3 cenários: \n",
        "\n",
        "**Dados das últimas eleições**\n",
        "\n",
        "O objetivo é ter um panorama dos candidatos eleitos na última eleição municipal. Vamos trabalhar com Aracaju, mas mostro como vocês podem fazer para outras cidades.. A proposta é visualizarmos algumas informações como vereadores eleitos, total de votos e divisão por algumas categorias como cor/raça e gênero.\n",
        "\n",
        "**Dados da educação**\n",
        "\n",
        "Em relação a educação, vamos trabalhar com as sinopses estatísticas para mostrar a redução dos números de inscritos no ENEM ao longo dos anos. A idéia é ver o percentual de redução de inscritos no exame nos últimas 12 anos. Apesar de trabalharmos com os dados totais, é possível fazer um recorte por região ou estado.\n",
        "\n",
        "**Dados da COVID**\n",
        "\n",
        "Por fim, em relação os dados da COVID, vamos mostrar como utiizar os dados disponibilizados pelo brasil.io mais os dados disponibilizados pelos estados para mostrar o andamento da vacinação em paralelo com os números de casos e óbitos. Nosso foco mais uma vez vai ser o estado de Sergipe.\n",
        "\n",
        "\n",
        "**Atenção!!!**\n",
        "\n",
        "A proposta é mostrar um pouco onde esses dados estão, como baixa-los, processa-los e criar visualização de apoio a análise. Vale ressaltar que esse tipo de análise é muito mais complexa do que os dados e as visualizações deste minicurso permitem fazer. Elas devem ser casadas com uma análise ampla de contextos locais e aspectos sociais juntamente com especialistas de cada uma das áreas. \n",
        "\n",
        "\n",
        "\n",
        "\n"
      ]
    },
    {
      "cell_type": "markdown",
      "metadata": {
        "id": "cbW2qH3xKaMi"
      },
      "source": [
        "## Trabalhando com dados das Eleições"
      ]
    },
    {
      "cell_type": "markdown",
      "metadata": {
        "id": "jxZ_FkZwKaFZ"
      },
      "source": [
        "### Fonte dos Dados \n",
        "\n",
        "Os dados que vamos trabalhar nas eleições estão disponíveis no site do TSE através do link: https://www.tse.jus.br/eleicoes/estatisticas/repositorio-de-dados-eleitorais-1. Lá é possível encontrar os dados de vários pleitos eleitorais. Vale a pena explorar os dados. No nosso minicurso vamos trabalhar com dois arquivos: (1) Arquivo com os resultados das eleições e (2) Arquivo com as informações dos candidatos.\n",
        "\n",
        "Vamos carregar esses dados."
      ]
    },
    {
      "cell_type": "code",
      "metadata": {
        "id": "FbgcWyjgU4S3"
      },
      "source": [
        "data_votacao = pd.read_csv(\"/content/drive/MyDrive/ApresentacaoIA/Minicursos/Coletando, processando e visualizando dados abertos/data/eleicoes/votacao_candidato_munzona_2020_SE.csv\",\n",
        "    sep=\";\",\n",
        "    encoding='latin_1',\n",
        "    na_values=['#NULO','#NULO#', -1])\n",
        "data_votacao"
      ],
      "execution_count": null,
      "outputs": []
    },
    {
      "cell_type": "code",
      "metadata": {
        "id": "Rkhi3xjMU-Bp"
      },
      "source": [
        "data_votacao.columns"
      ],
      "execution_count": null,
      "outputs": []
    },
    {
      "cell_type": "code",
      "metadata": {
        "id": "EuzGPifRVOsN"
      },
      "source": [
        "data_candidatos = pd.read_csv(\n",
        "    \"/content/drive/MyDrive/ApresentacaoIA/Minicursos/Coletando, processando e visualizando dados abertos/data/eleicoes/consulta_cand_2020_SE.csv\", \n",
        "    sep=\";\",\n",
        "    encoding='latin_1',\n",
        "    na_values=['#NULO','#NULO#', -1])\n",
        "data_candidatos"
      ],
      "execution_count": null,
      "outputs": []
    },
    {
      "cell_type": "code",
      "metadata": {
        "id": "No-wYI8rs4IZ"
      },
      "source": [
        "data_votacao.query(\"NR_CANDIDATO == 50180\")"
      ],
      "execution_count": null,
      "outputs": []
    },
    {
      "cell_type": "markdown",
      "metadata": {
        "id": "izim2GLuu8zy"
      },
      "source": [
        "### Processando os dados\n",
        "\n",
        "Vamos deixar nos DataFrames apenas os dados que nos interessam para nosso objetivo. Para isso, vamos fazer 3 operações com os dados:\n",
        "\n",
        "1. Filtra apenas por vereadores\n",
        "2. Selecionar as colunas de interesse\n",
        "3. Agrupar os valores somando o total de votos.\n",
        "\n"
      ]
    },
    {
      "cell_type": "code",
      "metadata": {
        "id": "IN9BRDVPv9It"
      },
      "source": [
        "data_votacao['DS_CARGO'].value_counts()"
      ],
      "execution_count": null,
      "outputs": []
    },
    {
      "cell_type": "code",
      "metadata": {
        "id": "M31vn0cew9LX"
      },
      "source": [
        "data_votacao.columns"
      ],
      "execution_count": null,
      "outputs": []
    },
    {
      "cell_type": "code",
      "metadata": {
        "id": "-U-gT2PovyJK"
      },
      "source": [
        "data_votacao_query = data_votacao.copy()\n",
        "data_votacao_query = data_votacao_query.query(\"DS_CARGO == 'Vereador'\")\n",
        "\n",
        "select_columns = ['SQ_CANDIDATO','NR_CANDIDATO','NM_CANDIDATO','NM_URNA_CANDIDATO','SG_PARTIDO','NM_MUNICIPIO','DS_SIT_TOT_TURNO']\n",
        "data_votacao_query = data_votacao_query.groupby(select_columns, as_index=False).agg({'QT_VOTOS_NOMINAIS': 'sum'})\n",
        "data_votacao_query"
      ],
      "execution_count": null,
      "outputs": []
    },
    {
      "cell_type": "code",
      "metadata": {
        "id": "MkDthkQXyOG4"
      },
      "source": [
        "select_columns_c = ['SQ_CANDIDATO',\n",
        "    'NR_CANDIDATO',\n",
        "    'NM_CANDIDATO',\n",
        "    'DS_GENERO',\n",
        "    'DS_GRAU_INSTRUCAO',\n",
        "    'DS_ESTADO_CIVIL',\n",
        "    'DS_COR_RACA',\n",
        "    'DS_OCUPACAO',\n",
        "    'ST_REELEICAO',\n",
        "    'DS_CARGO']\n",
        "\n",
        "data_candidatos_query = data_candidatos.copy()\n",
        "data_candidatos_query = data_candidatos_query[select_columns_c]\n",
        "data_candidatos_query = data_candidatos_query.query(\"DS_CARGO == 'VEREADOR'\")\n",
        "data_candidatos_query"
      ],
      "execution_count": null,
      "outputs": []
    },
    {
      "cell_type": "markdown",
      "metadata": {
        "id": "oT1n2ojC05ee"
      },
      "source": [
        "Com as duas tabelas, o próximo passo é juntar essas informações em um único dataframe para que eu tenha a informação completa de cada um dos candidatos."
      ]
    },
    {
      "cell_type": "code",
      "metadata": {
        "id": "Z5wiMKBFzuZg"
      },
      "source": [
        "data_final_eleicoes = data_votacao_query.merge(\n",
        "    data_candidatos_query,\n",
        "    how='left',\n",
        "    on=['SQ_CANDIDATO']\n",
        ")\n",
        "data_final_eleicoes"
      ],
      "execution_count": null,
      "outputs": []
    },
    {
      "cell_type": "code",
      "metadata": {
        "id": "21Qn4Ik61P6R"
      },
      "source": [
        "data_final_eleicoes = data_final_eleicoes[['SQ_CANDIDATO', 'NR_CANDIDATO_x', 'NM_CANDIDATO_x', 'NM_URNA_CANDIDATO',\n",
        "       'SG_PARTIDO', 'NM_MUNICIPIO', 'QT_VOTOS_NOMINAIS',\n",
        "       'DS_GENERO', 'DS_GRAU_INSTRUCAO', 'DS_ESTADO_CIVIL',\n",
        "       'DS_COR_RACA', 'DS_OCUPACAO', 'ST_REELEICAO', 'DS_CARGO', 'DS_SIT_TOT_TURNO']]\n",
        "data_final_eleicoes = data_final_eleicoes.rename(columns={'NR_CANDIDATO_x': 'NR_CANDIDATO', 'NM_CANDIDATO_x': 'NM_CANDIDATO' })\n",
        "data_final_eleicoes"
      ],
      "execution_count": null,
      "outputs": []
    },
    {
      "cell_type": "markdown",
      "metadata": {
        "id": "VKY1RXa29GL8"
      },
      "source": [
        "Podemos visualizar melhor esses dados através de um gráfico de barra. "
      ]
    },
    {
      "cell_type": "code",
      "metadata": {
        "id": "YHcaA8Zd9EtM"
      },
      "source": [
        "\n",
        "data_eleicoes_graph = data_final_eleicoes.groupby(by=['NM_MUNICIPIO','DS_COR_RACA']).agg({'SQ_CANDIDATO': 'count'})\n",
        "data_eleicoes_graph = data_eleicoes_graph.reset_index()\n",
        "data_eleicoes_graph = data_eleicoes_graph.rename(columns={'SQ_CANDIDATO': 'TOTAL'})\n",
        "data_eleicoes_graph = data_eleicoes_graph.query(\"NM_MUNICIPIO == 'ARACAJU'\")\n",
        "\n",
        "fig = px.bar(data_eleicoes_graph, x='DS_COR_RACA', y='TOTAL')\n",
        "fig.show()"
      ],
      "execution_count": null,
      "outputs": []
    },
    {
      "cell_type": "markdown",
      "metadata": {
        "id": "kFhCFJi98mWu"
      },
      "source": [
        "## Trabalhando com dados do ENEM\n",
        "\n"
      ]
    },
    {
      "cell_type": "markdown",
      "metadata": {
        "id": "iYoHK1k88u2p"
      },
      "source": [
        "### Fonte dos Dados\n",
        "\n",
        "Os dados de 2009 a 2019 foram extraídos do site de dados abertos do INEP. Os dados utilizados neste processamentos são as chamadas Sinopses Estatísticas, disponíveis em: https://www.gov.br/inep/pt-br/acesso-a-informacao/dados-abertos/sinopses-estatisticas/enem.\n",
        "\n",
        "Segundo o próprio site do INEP, \"As Sinopses Estatísticas do Inep correspondem a um conjunto de tabelas com dados recolhidos por suas pesquisas estatísticas, avaliações e exames. As informações são organizadas por temas e distribuídas de acordo com as regiões brasileiras, suas respectivas unidades da federação e municípios. As informações podem ser obtidas via download, em formato ODS e XLSX, permitindo que o usuário crie os filtros de seu interesse. Para abrir os arquivos, que estão em formato de compressão específico (.zip), é necessário o uso de algum programa descompactador\".\n",
        "\n",
        "Para este processamento, foi utilizado apenas os arquivos .xlsx que estão disponíveis neste diretório na pasta \"data/originais\". Os arquivos contém uma série de planilhas com as mais diversas estatísticas relacionadas ao ENEM. O foco aqui vai ser na planilhas da primeira seção: Inscritos. Mais precisamente, o total de inscritos por região, estado e raça. \n",
        "\n",
        "Apesar de ter uma planilha específica para as informações por região, a planilha que tem as informações por raça também tem essa informação. Sendo assim, vamos usar apenas a planilha de Inscritos por Região / Unidade da Federação / Raça. Identificadas no documento .xlsx como a 1.4. "
      ]
    },
    {
      "cell_type": "markdown",
      "metadata": {
        "id": "ixnz0qQj82oA"
      },
      "source": [
        "### Métodos Auxiliares"
      ]
    },
    {
      "cell_type": "code",
      "metadata": {
        "id": "5PZmD6nZ7qVz"
      },
      "source": [
        "regioes_brasil = {'AC': {\"nome\": \"Acre\", \"sigla\": \"AC\", \"regiao\": 'Norte'},\n",
        "                'AL': {\"nome\": \"Alagoas\", \"sigla\": \"AL\", \"regiao\": 'Nordeste'},\n",
        "                'AP': {\"nome\": \"Amapá\", \"sigla\": \"AP\", \"regiao\": 'Norte'},\n",
        "                'AM': {\"nome\": \"Amazonas\", \"sigla\": \"AM\", \"regiao\": 'Norte'},\n",
        "                'BA': {\"nome\": \"Bahia\", \"sigla\": \"BA\", \"regiao\": 'Nordeste'},\n",
        "                'CE': {\"nome\": \"Ceará\", \"sigla\": \"CE\", \"regiao\": 'Nordeste'},\n",
        "                'DF': {\"nome\": \"Distrito Federal\", \"sigla\": \"DF\", \"regiao\": 'Centro-Oeste'},\n",
        "                'ES': {\"nome\": \"Espírito Santo\", \"sigla\": \"ES\", \"regiao\": 'Sudeste'},\n",
        "                'GO': {\"nome\": \"Goiás\", \"sigla\": \"GO\", \"regiao\": 'Centro-Oeste'},\n",
        "                'MA': {\"nome\": \"Maranhão\", \"sigla\": \"MA\", \"regiao\": 'Nordeste'},\n",
        "                'MT': {\"nome\": \"Mato Grosso\", \"sigla\": \"MT\", \"regiao\": 'Centro-Oeste'},\n",
        "                'MS': {\"nome\": \"Mato Grosso do Sul\", \"sigla\": \"MS\", \"regiao\": 'Centro-Oeste'},\n",
        "                'MG': {\"nome\": \"Minas Gerais\", \"sigla\": \"MG\", \"regiao\": 'Sudeste'},\n",
        "                'PA': {\"nome\": \"Pará\", \"sigla\": \"PA\", \"regiao\": 'Norte'},\n",
        "                'PB': {\"nome\": \"Paraíba\", \"sigla\": \"PB\", \"regiao\": 'Nordeste'},\n",
        "                'PR': {\"nome\": \"Paraná\", \"sigla\": \"PR\", \"regiao\": 'Sul'},\n",
        "                'PE': {\"nome\": \"Pernambuco\", \"sigla\": \"PE\", \"regiao\": 'Nordeste'},\n",
        "                'PI': {\"nome\": \"Piauí\", \"sigla\": \"PI\", \"regiao\": 'Nordeste'},\n",
        "                'RJ': {\"nome\": \"Rio de Janeiro\", \"sigla\": \"RJ\", \"regiao\": 'Sudeste'},\n",
        "                'RN': {\"nome\": \"Rio Grande do Norte\", \"sigla\": \"RN\", \"regiao\": 'Nordeste'},\n",
        "                'RS': {\"nome\": \"Rio Grande do Sul\", \"sigla\": \"RS\", \"regiao\": 'Sul'},\n",
        "                'RO':  {\"nome\": \"Rondônia\", \"sigla\": \"RO\", \"regiao\": 'Norte'},\n",
        "                'RR': {\"nome\": \"Roraima\", \"sigla\": \"RR\", \"regiao\": 'Norte'},\n",
        "                'SC': {\"nome\": \"Santa Catarina\", \"sigla\": \"SC\", \"regiao\": 'Sul'},\n",
        "                'SP': {\"nome\": \"São Paulo\", \"sigla\": \"SP\", \"regiao\": 'Sudeste'},\n",
        "                'SE': {\"nome\": \"Sergipe\", \"sigla\": \"SE\", \"regiao\": 'Nordeste'},\n",
        "                'TO': {\"nome\": \"Tocantins\", \"sigla\": \"TO\", \"regiao\": 'Norte'}}\n",
        "\n",
        "\n",
        "estado_uf = {\n",
        "    'Acre': 'AC',\n",
        "    'Alagoas': 'AL',\n",
        "    'Amapá': 'AP' ,\n",
        "    'Amazonas': 'AM',\n",
        "    'Bahia': 'BA',\n",
        "    'Ceará': 'CE',\n",
        "    'Distrito Federal': 'DF' ,\n",
        "    'Espírito Santo': 'ES',\n",
        "    'Goiás': 'GO',\n",
        "    'Maranhão': 'MA',\n",
        "    'Mato Grosso': 'MT',\n",
        "    'Mato Grosso do Sul': 'MS',\n",
        "    'Minas Gerais': 'MG',\n",
        "    'Pará': 'PA',\n",
        "    'Paraíba': 'PB',\n",
        "    'Paraná': 'PR',\n",
        "    'Pernambuco': 'PE',\n",
        "    'Piauí': 'PI',\n",
        "    'Rio de Janeiro': 'RJ',\n",
        "    'Rio Grande do Norte': 'RN',\n",
        "    'Rio Grande do Sul': 'RS',\n",
        "    'Rondônia': 'RO',\n",
        "    'Roraima': 'RR',\n",
        "    'Santa Catarina': 'SC',\n",
        "    'São Paulo': 'SP',\n",
        "    'Sergipe': 'SE',\n",
        "    'Tocantins': 'TO',\n",
        "}\n",
        "\n",
        "def map_uf(estado):\n",
        "    \n",
        "    try:\n",
        "        return_estado = estado_uf[estado]\n",
        "    except KeyError:\n",
        "        return_estado = estado\n",
        "        \n",
        "    return return_estado\n",
        "\n",
        "def map_estados(uf, value_return):\n",
        "    \n",
        "    return regioes_brasil[uf][value_return]"
      ],
      "execution_count": null,
      "outputs": []
    },
    {
      "cell_type": "markdown",
      "metadata": {
        "id": "wNW9BDqtEOE7"
      },
      "source": [
        "### Processando sinopses estatísticas de 2009 a 2019"
      ]
    },
    {
      "cell_type": "code",
      "metadata": {
        "id": "JNo7jasACYzz"
      },
      "source": [
        "'''\n",
        "    Método que processa o arquivo de inscritos\n",
        "        @ano: ano que deve ser processado\n",
        "        @planilha: planilha que se encontra as informações\n",
        "        @columns_names: nome das colunas no dataset resultante. \n",
        "        @skip: número de linhas que devem ser puladas para iniciar o processamento da planilha\n",
        "\n",
        "'''\n",
        "def inscritos_(ano, planilha, columns_names, skip):\n",
        "    data_ = pd.read_excel(\"/content/drive/MyDrive/ApresentacaoIA/Minicursos/Coletando, processando e visualizando dados abertos/data/enem/Sinopse ENEM \" + str(ano) + \".xlsx\", sheet_name=planilha, skiprows=skip,names=columns_names)\n",
        "    data_ = data_.dropna()\n",
        "    data_ = data_.reset_index(drop=True)\n",
        "    data_['ano'] = ano\n",
        "    data_['uf_sigla'] = data_.apply(lambda row: map_uf(row['uf']), axis=1)\n",
        "\n",
        "    return data_"
      ],
      "execution_count": null,
      "outputs": []
    },
    {
      "cell_type": "code",
      "metadata": {
        "id": "UShHhqHJCcYE"
      },
      "source": [
        "inscritos_(2019, '1.1', ['regiao','uf','total'],8)"
      ],
      "execution_count": null,
      "outputs": []
    },
    {
      "cell_type": "code",
      "metadata": {
        "id": "g__j4KW7C3EJ"
      },
      "source": [
        "anos_ = [2019, 2018, 2017, 2016, 2015, 2014,2013,2012,2011,2010,2009]\n",
        "\n",
        "columns = ['regiao','uf','total']\n",
        "\n",
        "data_frames_enem = {}\n",
        "\n",
        "skip_rows = 8\n",
        "\n",
        "for ano in anos_:\n",
        "    if ano not in data_frames_enem.keys():\n",
        "        data_frames_enem[ano] = inscritos_(ano, \"1.1\",columns_names=columns,skip=skip_rows)\n",
        "    "
      ],
      "execution_count": null,
      "outputs": []
    },
    {
      "cell_type": "code",
      "metadata": {
        "id": "EOPWZjDLDbj_"
      },
      "source": [
        "data_frames_enem[2019]"
      ],
      "execution_count": null,
      "outputs": []
    },
    {
      "cell_type": "markdown",
      "metadata": {
        "id": "8Qpk5P2xETP3"
      },
      "source": [
        "### E 2020?\n",
        "\n",
        "Não foram encontradas as sinopses estatísticas de 2020. O acesso dessas informações de 2020 e 2021 serão coletadas a partir de notícias ou outras fontes. \n",
        "\n",
        "1. As informações de inscritos podem ser encontrados no Press Kit divulgado pelo site do INEP, diposnível neste link: [https://www.gov.br/inep/pt-br/assuntos/noticias/enem/egressos-constituem-65-4-dos-inscritos-no-enem-impresso](https://www.gov.br/inep/pt-br/assuntos/noticias/enem/egressos-constituem-65-4-dos-inscritos-no-enem-impresso).  \n",
        "\n",
        "2. Algumas informações também podem ser encontradas aqui: [https://www.gov.br/inep/pt-br/assuntos/noticias/enem/divulgados-os-resultados-finais-do-exame](https://www.gov.br/inep/pt-br/assuntos/noticias/enem/divulgados-os-resultados-finais-do-exame)\n",
        "\n",
        "Anexado à notícia 1, temos o PressKit que tem algumas informações sobre inscritos e link para o arquivo em excel com as mesmas informaçõe. Vamos usar esse documento para coletar as informações de inscritos por região e raça de 2020. "
      ]
    },
    {
      "cell_type": "code",
      "metadata": {
        "id": "niBcD_aBDyPr"
      },
      "source": [
        "data_2020 = pd.read_excel(\"/content/drive/MyDrive/ApresentacaoIA/Minicursos/Coletando, processando e visualizando dados abertos/data/enem/presskit_ENEM2020_inscritos.xlsx\",sheet_name=\"Inscritos_Raça\",names=['uf_sigla','amarela','branca','indigena','nao_declarada','parda','preta','total'])\n",
        "data_2020 = data_2020.dropna()\n",
        "\n",
        "data_2020['uf'] = data_2020.apply(lambda row: map_estados(row['uf_sigla'],'nome'), axis=1)\n",
        "data_2020['regiao'] = data_2020.apply(lambda row: map_estados(row['uf_sigla'],'regiao'), axis=1)\n",
        "data_2020['ano'] = 2020\n",
        "data_2020 = data_2020[['regiao',\t'uf',\t'total',\t'ano', \t'uf_sigla']]\n",
        "data_2020"
      ],
      "execution_count": null,
      "outputs": []
    },
    {
      "cell_type": "markdown",
      "metadata": {
        "id": "JPHP0ERhFY8l"
      },
      "source": [
        "### E 2021?\n",
        "\n",
        "Assim como 2020, ainda não está disponível as sinopses estatísticas de 2021. Essas informações só devem ser disponibilizadas após a realização do exame. No entanto, já é possível ter acesso as informações de quantitativos de inscritos de 2021. [Neste link](https://www.gov.br/inep/pt-br/centrais-de-conteudo/press-kits) é possível acessar o press-kit com o link para as planilhas que contém o quantitivo de inscritos tanto para o ENEM impresso e o ENEM Digital. Nos arquivos do excel, estão apenas o total de inscritos, um pouco mais de detalhes estão disponíveis no pdf. \n",
        "\n",
        "O quantitivo de inscritos está por município. Vamos agrupar para ter as informações por estado e região como nas demais tabelas. No entanto, as tabelas não possuem informações por raça-cor. Essas informações estão disponíveis no próprio PDF do press-kit. "
      ]
    },
    {
      "cell_type": "code",
      "metadata": {
        "id": "s4C_hA6RHIZU"
      },
      "source": [
        "data_2021_impresso = pd.read_excel(\"/content/drive/MyDrive/ApresentacaoIA/Minicursos/Coletando, processando e visualizando dados abertos/data/enem/ENEM2021_inscritos_impresso.xlsx\",names=['uf_sigla','municipio','total'])\n",
        "data_2021_impresso = data_2021_impresso[['uf_sigla','total']].groupby(by=['uf_sigla'], as_index=False).agg({'total': 'sum'})\n",
        "data_2021_digital = pd.read_excel(\"/content/drive/MyDrive/ApresentacaoIA/Minicursos/Coletando, processando e visualizando dados abertos/data/enem/ENEM2021_inscritos_digital.xlsx\",names=['uf_sigla','municipio','total'])\n",
        "data_2021_digital = data_2021_digital[['uf_sigla','total']].groupby(by=['uf_sigla'], as_index=False).agg({'total': 'sum'})"
      ],
      "execution_count": null,
      "outputs": []
    },
    {
      "cell_type": "code",
      "metadata": {
        "id": "V6z_ufbFHP5y"
      },
      "source": [
        "data_2021 = pd.concat([data_2021_impresso, data_2021_digital]).groupby(['uf_sigla']).sum().reset_index()"
      ],
      "execution_count": null,
      "outputs": []
    },
    {
      "cell_type": "code",
      "metadata": {
        "id": "5OcfQe7gEt36"
      },
      "source": [
        "data_2021['uf'] = data_2021.apply(lambda row: map_estados(row['uf_sigla'],'nome'), axis=1)\n",
        "data_2021['regiao'] = data_2021.apply(lambda row: map_estados(row['uf_sigla'],'regiao'), axis=1)\n",
        "data_2021['ano'] = 2021\n",
        "data_2021 = data_2021[['regiao',\t'uf',\t'total',\t'ano', \t'uf_sigla']]\n",
        "data_2021 = data_2021.sort_values(by=['regiao'], ignore_index=True)\n",
        "data_2021"
      ],
      "execution_count": null,
      "outputs": []
    },
    {
      "cell_type": "code",
      "metadata": {
        "id": "ACsKSxbsGPSt"
      },
      "source": [
        "data_frames_enem[2020] = data_2020.copy()\n",
        "data_frames_enem[2021] = data_2021.copy()"
      ],
      "execution_count": null,
      "outputs": []
    },
    {
      "cell_type": "code",
      "metadata": {
        "id": "ORyz7jtXIWcy"
      },
      "source": [
        "for key in data_frames_enem.keys():\n",
        "  total_line = ['Brasil','Brasil',data_frames_enem[key]['total'].sum(), key, 'BR']\n",
        "  data_frames_enem[key] = data_frames_enem[key].append(pd.Series(total_line, index=data_frames_enem[key].columns), ignore_index=True)\n",
        "  "
      ],
      "execution_count": null,
      "outputs": []
    },
    {
      "cell_type": "code",
      "metadata": {
        "id": "3fdAWNFiJqT0"
      },
      "source": [
        "data_frames_enem[2010]"
      ],
      "execution_count": null,
      "outputs": []
    },
    {
      "cell_type": "code",
      "metadata": {
        "id": "3eAxNnd0KkX0"
      },
      "source": [
        "all_concat = []\n",
        "for key in data_frames_enem.keys():\n",
        "  data_temp = data_frames_enem[key][['regiao','ano','total']].query(\"regiao == 'Brasil'\")\n",
        "  all_concat.append(data_temp)"
      ],
      "execution_count": null,
      "outputs": []
    },
    {
      "cell_type": "code",
      "metadata": {
        "id": "P4Wu2a9dLqS7"
      },
      "source": [
        "data_final_enem = pd.concat(all_concat, ignore_index=True)\n",
        "data_final_enem = data_final_enem[['ano','total']]\n",
        "data_final_enem = data_final_enem.sort_values(by=['ano'],ignore_index=True)\n",
        "data_final_enem"
      ],
      "execution_count": null,
      "outputs": []
    },
    {
      "cell_type": "code",
      "metadata": {
        "id": "fg0EkZoaMJHT"
      },
      "source": [
        "fig = px.line(data_final_eleicoes, x=\"ano\", y=\"total\", title='Total de inscritos no ENEM: 2009-2021')\n",
        "fig.show()"
      ],
      "execution_count": null,
      "outputs": []
    },
    {
      "cell_type": "markdown",
      "metadata": {
        "id": "-NiaHK7Rm6OK"
      },
      "source": [
        "## Trabalhando com dados da COVID\n",
        "\n",
        "Já com dos dados da COVID, vamos trabalhar com duas bases. A primeira com informações de casos e óbitos. Para isso, vamos utilizar um base disponibilizada pelo site [brasil.io](https://brasil.io) que desde do início da pandemia vem publicando atualizações diárias do número de óbitos e casos para todo o Brasil. O site possui outras bases abertas que foram pré-processadas e organizadas por eles. Vale a pena explorar o site. \n",
        "\n",
        "A segunda base é em relação ao número de vacinados. Essa base pode ser encontrada de forma geral nos links do Ministério da Saúde. No entanto, por muitas vezes esses estavam desatualizados. Sendo assim, vamos trabalhar com os dados diretamente os portais municipais. "
      ]
    },
    {
      "cell_type": "markdown",
      "metadata": {
        "id": "DtXzvuj5u6vI"
      },
      "source": [
        "### Dados da vacinação\n",
        "\n",
        "Os dados vacinação são mais difíceis de encontrar, então a busca tem que ser junto aos portais estaduais ou municipais. No caso de Aracaju, as informações estão organizadas em um porta, mas o total da vacinação não está organizado em um único arquivo. O arquivo que eu vou utilizar foi compilado por mim, manualmente, registrando os dados quase que diariamente. "
      ]
    },
    {
      "cell_type": "code",
      "metadata": {
        "id": "2DFP2yy_m_5U"
      },
      "source": [
        "data_vacinacao = pd.read_csv(\"/content/drive/MyDrive/ApresentacaoIA/Minicursos/Coletando, processando e visualizando dados abertos/data/covid/vacinacao_sergipe.csv\",\n",
        "                            sep=\";\")\n",
        "data_vacinacao"
      ],
      "execution_count": null,
      "outputs": []
    },
    {
      "cell_type": "markdown",
      "metadata": {
        "id": "1xE7yETpvO0q"
      },
      "source": [
        "### Dados de Casos e Óbitos\n",
        "\n",
        "Já os dados de casos e óbitos foram extraídos do Brasil.io que tem uma base completa, atualizada diariamente, com os números de todo Brasil. Vamos fazer um recorte do estado de Sergipe para que a gente possa trabalhar na visualização destas informações. "
      ]
    },
    {
      "cell_type": "code",
      "metadata": {
        "id": "fwjIYwiCuvoO"
      },
      "source": [
        "dados_full = pd.read_csv('/content/drive/MyDrive/ApresentacaoIA/Minicursos/Coletando, processando e visualizando dados abertos/data/covid/caso_full.csv')\n",
        "dados_full"
      ],
      "execution_count": null,
      "outputs": []
    },
    {
      "cell_type": "code",
      "metadata": {
        "id": "HkEqkMPKvxBs"
      },
      "source": [
        "dados_gerais_sergipe = dados_full.query('state == \"SE\" and city.isnull()', engine='python')\n",
        "dados_gerais_sergipe = dados_gerais_sergipe[['date','last_available_confirmed','last_available_deaths','new_confirmed','new_deaths']]\n",
        "dados_gerais_sergipe = dados_gerais_sergipe.reset_index(drop=True)\n",
        "dados_gerais_sergipe"
      ],
      "execution_count": null,
      "outputs": []
    },
    {
      "cell_type": "code",
      "metadata": {
        "id": "lH2_NycRwL61"
      },
      "source": [
        "dados_gerais_sergipe.to_csv(\"/content/drive/MyDrive/ApresentacaoIA/Minicursos/Coletando, processando e visualizando dados abertos/data/covid/caso_full_sergipe.csv\", index=False)"
      ],
      "execution_count": null,
      "outputs": []
    },
    {
      "cell_type": "markdown",
      "metadata": {
        "id": "XPs6ViulxYsk"
      },
      "source": [
        "### Processando os dados\n",
        "\n",
        "O nosso objetivo é enxergar os dados de duas formas: os dados da vacinação serão mostrados a partir do percentual da população vacinada em cada uma das doses. Já os dados de casos e óbitos vão ser mostrados a partir da média móvel de 7 dias dos registros diários.\n",
        "\n"
      ]
    },
    {
      "cell_type": "markdown",
      "metadata": {
        "id": "WF7yMgFV5DLh"
      },
      "source": [
        "#### **Vacinação**\n",
        "\n",
        "Vamos calcular a % de pessoas vacinadas a cada dia para cada uma das doses aplciadas. Iremos trabalhar com 3 classificação desses dados:\n",
        "\n",
        "1. Pessoas parcialmente imunizadas: consiste em pessoas que tomaram apenas a primeira dose das vacinas que possuem duas doses;\n",
        "2. Pessoas completamente imunizadas: consiste em pessoas que tomaram a segunda dose mais as pessoas que tomaram a vacina de dose única. \n",
        "3. Pessoas que receberam a dose de reforço."
      ]
    },
    {
      "cell_type": "code",
      "metadata": {
        "id": "q9vwXk-gxAdh"
      },
      "source": [
        "populacao_sergipe = 2318822 # Estimativa populacional de 2020\n",
        "\n",
        "data_vacinacao['percent_parcial'] = data_vacinacao['aplicadas_dose1'] / populacao_sergipe\n",
        "data_vacinacao['percent_completo'] = (data_vacinacao['aplicadas_dose2'] + data_vacinacao['aplicadas_dose_unica']) / populacao_sergipe\n",
        "data_vacinacao['percent_reforco'] = data_vacinacao['aplicadas_dose_reforço'] / populacao_sergipe\n",
        "\n",
        "data_vacinacao"
      ],
      "execution_count": null,
      "outputs": []
    },
    {
      "cell_type": "code",
      "metadata": {
        "id": "RO-CT_SqzurP"
      },
      "source": [
        "fig = go.Figure()\n",
        "fig.add_trace(go.Scatter(x=data_vacinacao['data'], y=data_vacinacao['percent_parcial'],\n",
        "                    mode='lines',\n",
        "                    name='Parcial'))\n",
        "fig.add_trace(go.Scatter(x=data_vacinacao['data'], y=data_vacinacao['percent_completo'],\n",
        "                    mode='lines',\n",
        "                    name='Completo'))\n",
        "fig.add_trace(go.Scatter(x=data_vacinacao['data'], y=data_vacinacao['percent_reforco'],\n",
        "                    mode='lines',\n",
        "                    name='Reforço'))\n",
        "fig.show()"
      ],
      "execution_count": null,
      "outputs": []
    },
    {
      "cell_type": "markdown",
      "metadata": {
        "id": "Eg85zA181yHC"
      },
      "source": [
        "#### **Casos e Óbitos**\n",
        "\n",
        "Em realação aos casos e óbitos vamos trabalhar com a média móvel de 7 dias. A média móvel é calculada a partir dos registros diários dos últimos 7 dias. Então, para cada dia se olha os registros de 7 dias anteriores ao dia atual e calcula a média. Neste caso, isso é feito para amenizar as diferenças de registros que possam acontecer entre um dia e outro, principalmente aos finais de semana, onde o número de dados reportados são bem menores. "
      ]
    },
    {
      "cell_type": "code",
      "metadata": {
        "id": "YbZi5_vY0wq8"
      },
      "source": [
        "dados_gerais_sergipe['mean_confirmed'] = dados_gerais_sergipe['new_confirmed'].rolling(window=7).mean()\n",
        "dados_gerais_sergipe['mean_deaths'] = dados_gerais_sergipe['new_deaths'].rolling(window=7).mean()\n",
        "dados_gerais_sergipe"
      ],
      "execution_count": null,
      "outputs": []
    },
    {
      "cell_type": "code",
      "metadata": {
        "id": "wlIvd-Kz2bWX"
      },
      "source": [
        "\n",
        "fig = go.Figure()\n",
        "\n",
        "fig = make_subplots(\n",
        "    rows=2, cols=1,\n",
        "    row_heights=[0.5, 0.5],\n",
        ")\n",
        "\n",
        "\n",
        "fig.add_trace(go.Scatter(x=dados_gerais_sergipe['date'], y=dados_gerais_sergipe['mean_confirmed'],\n",
        "                    mode='lines',\n",
        "                    name='Casos'), row=1, col=1)\n",
        "fig.add_trace(go.Scatter(x=dados_gerais_sergipe['date'], y=dados_gerais_sergipe['mean_deaths'],\n",
        "                    mode='lines',\n",
        "                    name='Óbitos'), row=2, col=1)\n",
        "\n",
        "\n",
        "\n",
        "\n",
        "fig.show()"
      ],
      "execution_count": null,
      "outputs": []
    },
    {
      "cell_type": "markdown",
      "metadata": {
        "id": "T4039hlT51p_"
      },
      "source": [
        "## Visualizando melhor os dados\n",
        "\n",
        "Todas as visualizações criadas foram suficientes para nosso objetivo de olhar os dados com mais detalhes, fazer algumas observações, mas de certa forma podemos melhorar para que elas contem melhor a história que os dados trazem. Vamos exercitar um pouco isso."
      ]
    },
    {
      "cell_type": "markdown",
      "metadata": {
        "id": "bSJliSwJ6Zvc"
      },
      "source": [
        "### Dados das eleições\n",
        "\n",
        "Com as visualizações vamos demostrar a distribuição de candidatoes a respeito de dois aspectos: \n",
        "\n",
        "* Cor e Raça\n",
        "* Gênero\n"
      ]
    },
    {
      "cell_type": "code",
      "metadata": {
        "id": "BQb4FD_v49L5"
      },
      "source": [
        "data_eleicoes_graph = data_final_eleicoes.groupby(by=['NM_MUNICIPIO','DS_COR_RACA']).agg({'SQ_CANDIDATO': 'count'})\n",
        "data_eleicoes_graph = data_eleicoes_graph.reset_index()\n",
        "data_eleicoes_graph = data_eleicoes_graph.rename(columns={'SQ_CANDIDATO': 'TOTAL'})\n",
        "data_eleicoes_graph"
      ],
      "execution_count": null,
      "outputs": []
    },
    {
      "cell_type": "code",
      "metadata": {
        "id": "bGXvFQER3vzN"
      },
      "source": [
        "\n",
        "municipio_list = list(sorted(set(data_final_eleicoes['NM_MUNICIPIO'])))\n",
        "municipio_choose = widgets.Dropdown(options=municipio_list, value='ARACAJU')\n",
        "municipio_choose"
      ],
      "execution_count": null,
      "outputs": []
    },
    {
      "cell_type": "code",
      "metadata": {
        "id": "8XLSa0Us9LZh"
      },
      "source": [
        "field = 'DS_COR_RACA'\n",
        "field_name = 'Cor/Raça'\n",
        "\n",
        "my_plot_data = data_eleicoes_graph.query(\"NM_MUNICIPIO == '\" + municipio_choose.value + \"'\").sort_values(by='TOTAL', ascending=False)\n",
        "my_plot_data['PERCENT'] = my_plot_data['TOTAL'] / my_plot_data['TOTAL'].sum()\n",
        "max_percent = my_plot_data.iloc[my_plot_data['TOTAL'].argmax()]\n",
        "\n",
        "title = 'Distribuição dos vereadores por ' + field_name\n",
        "\n",
        "highlight_bar = '#1B5583'\n",
        "bars_color = ['#C0C0C0']*len(my_plot_data)\n",
        "bars_color[0] = highlight_bar\n",
        "\n",
        "fig = px.bar(\n",
        "    my_plot_data, \n",
        "    x=field, \n",
        "    y='TOTAL', \n",
        "    title=title,\n",
        "    labels={field: '', 'TOTAL': 'Total de Candidatos'},\n",
        "    opacity=0.7,\n",
        "    text=\"TOTAL\",\n",
        "    width=900,\n",
        "    )\n",
        "\n",
        "fig.update_yaxes( \n",
        "  showgrid=False,\n",
        "  linecolor=\"#C0C0C0\",\n",
        "  linewidth=1\n",
        ")\n",
        "\n",
        "fig.update_xaxes(  \n",
        "  showgrid=False,\n",
        "  linecolor=\"#C0C0C0\",\n",
        "  linewidth=1\n",
        ")\n",
        "\n",
        "fig.update_traces(marker_color=bars_color, marker_line_color='#000000',\n",
        "                  marker_line_width=1, opacity=0.7)\n",
        "\n",
        "\n",
        "fig.update_layout(\n",
        "    plot_bgcolor=\"#FFFFFF\",\n",
        "    title_font_color=\"#000000\",\n",
        "    title_font_size=25\n",
        ")\n",
        "\n",
        "fig.show()"
      ],
      "execution_count": null,
      "outputs": []
    },
    {
      "cell_type": "markdown",
      "metadata": {
        "id": "MVAevwgOL8yE"
      },
      "source": [
        "Um outra visualização que podemos trabalhar com esses dados é referente a distribuição de homens e mulheres. Vamos criar uma visualização que permita mostrar essa distribuição em cada um dos municípios. "
      ]
    },
    {
      "cell_type": "code",
      "metadata": {
        "id": "Qc14Sq_f2qyJ"
      },
      "source": [
        "data_genero = data_final_eleicoes.groupby(by=['NM_MUNICIPIO','DS_GENERO']).agg({'SQ_CANDIDATO': 'count'})\n",
        "data_genero = data_genero.rename(columns={'SQ_CANDIDATO': 'TOTAL'})\n",
        "data_genero"
      ],
      "execution_count": null,
      "outputs": []
    },
    {
      "cell_type": "code",
      "metadata": {
        "id": "l7cMCxVRMOL1"
      },
      "source": [
        "data_genero_total = data_genero.sum(level=[0])\n",
        "data_genero_total"
      ],
      "execution_count": null,
      "outputs": []
    },
    {
      "cell_type": "code",
      "metadata": {
        "id": "jZSeEgoPNRg6"
      },
      "source": [
        "for (index, rows) in data_genero.iterrows():\n",
        "    data_genero.at[index, 'PERCENT'] = float(rows['TOTAL'] / data_genero_total.loc[index[0]].TOTAL)\n",
        "\n",
        "data_genero = data_genero.reset_index()\n",
        "data_genero['NM_MUNICIPIO'] = data_genero['NM_MUNICIPIO'].str.title()\n",
        "data_genero['DS_GENERO'] = data_genero['DS_GENERO'].str.title()\n",
        "data_genero"
      ],
      "execution_count": null,
      "outputs": []
    },
    {
      "cell_type": "code",
      "metadata": {
        "id": "ODp0VtPTPfAx"
      },
      "source": [
        "data_feminino = data_genero.query(\"DS_GENERO == 'Feminino'\")\n",
        "data_masculino = data_genero.query(\"DS_GENERO == 'Masculino'\")"
      ],
      "execution_count": null,
      "outputs": []
    },
    {
      "cell_type": "code",
      "metadata": {
        "id": "gFr0Abt3Ooio"
      },
      "source": [
        "\n",
        "fig = go.Figure()\n",
        "fig.add_trace(go.Scatter(\n",
        "    x=data_feminino['PERCENT'],\n",
        "    y=data_feminino['NM_MUNICIPIO'].sort_values(ascending=False),\n",
        "    marker=dict(color=\"#1B5583\", size=12),\n",
        "    mode=\"markers\",\n",
        "    name=\"Feminino\",\n",
        "    \n",
        "))\n",
        "\n",
        "fig.add_trace(go.Scatter(\n",
        "    x=data_masculino['PERCENT'],\n",
        "    y=data_masculino['NM_MUNICIPIO'].sort_values(ascending=False),\n",
        "    marker=dict(color=\"#C0C0C0\", size=12),\n",
        "    mode=\"markers\",\n",
        "    name=\"Masculino\",\n",
        "))\n",
        "\n",
        "\n",
        "fig.update_yaxes( \n",
        "  showgrid=True,\n",
        "  gridcolor=\"#C0C0C0\",\n",
        "  linecolor=\"#C0C0C0\",\n",
        "  linewidth=1,\n",
        "  tickfont_size=12\n",
        ")\n",
        "\n",
        "fig.update_xaxes(  \n",
        "  showgrid=False,\n",
        "  \n",
        "  linecolor=\"#C0C0C0\",\n",
        "  linewidth=1\n",
        ")\n",
        "\n",
        "fig.update_layout(title=\"Proporação de Cadidaturas por Gênero em Sergipe\",\n",
        "                  xaxis_title=\"% de cadidatos\",\n",
        "                  height=1600,\n",
        "                  width=900,\n",
        "                  plot_bgcolor=\"#FFFFFF\"\n",
        "                  )\n",
        "\n",
        "fig.show()"
      ],
      "execution_count": null,
      "outputs": []
    },
    {
      "cell_type": "markdown",
      "metadata": {
        "id": "2U7lF3OdUF5F"
      },
      "source": [
        "### Dados do ENEM \n",
        "\n",
        "Com os dados do ENEM, vamos trabalhar com algumas modificações para destacar algumas informações relevantes sobre os dados que processamos. A proposta é destacar momentos em que se tem um alto número de inscritos e aqueles baixo número. "
      ]
    },
    {
      "cell_type": "code",
      "metadata": {
        "id": "oe58MzD32uQC"
      },
      "source": [
        "data_destaque_enem = data_final_enem.query(\"ano >= 2016 and ano <= 2020\")\n",
        "data_destaque_enem"
      ],
      "execution_count": null,
      "outputs": []
    },
    {
      "cell_type": "code",
      "metadata": {
        "id": "zuhNwWX5U7WU"
      },
      "source": [
        "\n",
        "fig = go.Figure()\n",
        "\n",
        "fig.add_trace(go.Scatter(x=data_final_enem['ano'], y=data_final_enem['total'],\n",
        "                    mode='lines+markers',\n",
        "                    name='ENEM', line={'width': 2, 'color': '#c0c0c0'}))\n",
        "\n",
        "fig.add_trace(go.Scatter(x=data_destaque_enem['ano'], y=data_destaque_enem['total'],\n",
        "                    mode='lines+markers',\n",
        "                    name='Destaque', line={'width': 2, 'color': '#1B5583'}))\n",
        "\n",
        "fig.add_annotation(x=2014,\n",
        "            text=\"O maior número de inscritos foi registrado em 2014. <br />Foram quase 9 milhões de inscritos.\",\n",
        "            showarrow=False,\n",
        "            yref='paper',\n",
        "            y=1.1)\n",
        "\n",
        "fig.add_annotation(y=int(data_final_enem[data_final_enem['ano'] == 2021]['total']),\n",
        "            text=\"<span>Em 2021, foram pouco mais de <br />3 milhões de incritos <br />no ENEM.</span>\",\n",
        "            showarrow=False,\n",
        "            xanchor='right',\n",
        "            align='right',\n",
        "            width=220,\n",
        "            xref='paper',\n",
        "            x=0.93)\n",
        "\n",
        "fig.add_annotation(\n",
        "            text=\"O Brasil já vinha de uma tendência <br />de queda nos últimos anos, <br />com leve aumento em 2020.\",\n",
        "            showarrow=False,\n",
        "            xanchor='right',\n",
        "            align='right',\n",
        "            xref='paper',\n",
        "            yref='paper',\n",
        "            x=0.67,\n",
        "            y=0.6,\n",
        "            width=220)\n",
        "\n",
        "fig.update_yaxes(  \n",
        "  showgrid=True,\n",
        "  gridcolor='#F0F0F0',\n",
        "  linecolor=\"#C0C0C0\",\n",
        "  linewidth=1,\n",
        "  range=[0, 1.05 * int(data_final_enem['total'].max())]\n",
        ")\n",
        "\n",
        "fig.update_xaxes(  \n",
        "  showgrid=True,\n",
        "  linecolor=\"#C0C0C0\",\n",
        "  linewidth=1,\n",
        ")\n",
        "\n",
        "fig.update_layout(title=\"ENEM registra o menor número de inscritos dos últimos 12 anos\",\n",
        "                  xaxis_title=\"Ano\",\n",
        "                  yaxis_title=\"Total de Inscritos\",\n",
        "                  plot_bgcolor=\"#FFFFFF\",\n",
        "                  width=1200,\n",
        "                  showlegend=False\n",
        "                  )\n",
        "\n",
        "fig.show()"
      ],
      "execution_count": null,
      "outputs": []
    },
    {
      "cell_type": "markdown",
      "metadata": {
        "id": "PKmMlFs59Cfu"
      },
      "source": [
        "### Dados da COVID\n",
        "\n"
      ]
    },
    {
      "cell_type": "code",
      "metadata": {
        "id": "ztzkKXaR-I2B"
      },
      "source": [
        "fig = go.Figure()\n",
        "\n",
        "fig = make_subplots(\n",
        "    rows=3, cols=1,\n",
        "    row_heights=[0.33, 0.33, 0.33],\n",
        "    shared_xaxes=True,\n",
        "    vertical_spacing=0.05\n",
        ")\n",
        "\n",
        "\n",
        "fig.add_trace(go.Scatter(x=dados_gerais_sergipe['date'], y=dados_gerais_sergipe['mean_confirmed'],\n",
        "                    mode='lines',\n",
        "                    name='Casos', line={'width': 2, 'color': '#1B5583'}, showlegend=False), row=1, col=1, )\n",
        "fig.add_trace(go.Scatter(x=dados_gerais_sergipe['date'], y=dados_gerais_sergipe['mean_deaths'],\n",
        "                    mode='lines',\n",
        "                    name='Óbitos', line={'width': 2, 'color': '#B22222'}, showlegend=False), row=2, col=1)\n",
        "\n",
        "fig.add_trace(go.Scatter(x=data_vacinacao['data'], y=data_vacinacao['percent_parcial'],\n",
        "                    mode='lines',\n",
        "                    name='Parcialmente', line={'width': 2, 'color': '#8B4000'}, ), row=3, col=1)\n",
        "fig.add_trace(go.Scatter(x=data_vacinacao['data'], y=data_vacinacao['percent_completo'],\n",
        "                    mode='lines',\n",
        "                    name='Completamente', line={'width': 2, 'color': '#FF5F1F'}), row=3, col=1)\n",
        "fig.add_trace(go.Scatter(x=data_vacinacao['data'], y=data_vacinacao['percent_reforco'],\n",
        "                    mode='lines',\n",
        "                    name='Com dose de reforço', line={'width': 2, 'color': '#FAC898'}), row=3, col=1)\n",
        "\n",
        "\n",
        "fig.update_layout(title=\"Total de Casos, Óbitos e Vacinação em Sergipe\",\n",
        "                  plot_bgcolor=\"#FAFAFA\",\n",
        "                  showlegend=True,\n",
        "                  width=1200,\n",
        "                  height=800,\n",
        "                  legend_y=0\n",
        "                  )\n",
        "\n",
        "fig.add_annotation(x=0.01, y=0.99,\n",
        "            text=\"Total de casos\",\n",
        "            showarrow=False,\n",
        "            xref='paper',\n",
        "            yref='paper',\n",
        "            )\n",
        "\n",
        "fig.add_annotation(x=0.01, y=0.62,\n",
        "            text=\"Total de óbitos\",\n",
        "            showarrow=False,\n",
        "            xref='paper',\n",
        "            yref='paper',\n",
        "            )\n",
        "\n",
        "fig.add_annotation(x=0.01, y=0.25,\n",
        "            text=\"% da população imunizada\",\n",
        "            showarrow=False,\n",
        "            xref='paper',\n",
        "            yref='paper',\n",
        "            )\n",
        "\n",
        "fig.add_vrect(x0=data_vacinacao['data'].min(), x1=data_vacinacao['data'].max(), row='all', col=1,\n",
        "              annotation_text=\"Período com vacinação\", annotation_font_size=10, annotation_position=\"top left\",\n",
        "              fillcolor=\"#cccccC\", opacity=0.25, line_width=0, line_dash='dot')\n",
        "\n",
        "fig.add_vline(x=data_vacinacao['data'].min(), line_dash=\"dot\", row='all', col=1, line_color='#c0c0c0')\n",
        "\n",
        "fig.add_scatter(x = [fig.data[0].x[-1]], y = [fig.data[0].y[-1]],\n",
        "                     mode = 'markers + text',\n",
        "                     marker = {'color':'#1B5583', 'size':5},\n",
        "                     showlegend = False,\n",
        "                     text = [round(fig.data[0].y[-1],2)],\n",
        "                     textposition='middle right')\n",
        "\n",
        "\n",
        "fig.add_scatter(x = [fig.data[1].x[-1]], y = [fig.data[1].y[-1]],\n",
        "                     mode = 'markers + text',\n",
        "                     marker = {'color':'#B22222', 'size':5},\n",
        "                     showlegend = False,\n",
        "                     text = [round(fig.data[1].y[-1], 2)],\n",
        "                     textposition='middle right', row=2, col=1)\n",
        "\n",
        "\n",
        "fig.add_scatter(x = [fig.data[2].x[-1]], y = [fig.data[2].y[-1]],\n",
        "                     mode = 'markers + text',\n",
        "                     marker = {'color':'#8B4000', 'size':5},\n",
        "                     showlegend = False,\n",
        "                     text = ['{:.0%}'.format(fig.data[2].y[-1], 2)],\n",
        "                     textposition='middle right', row=3, col=1)\n",
        "\n",
        "fig.add_scatter(x = [fig.data[3].x[-1]], y = [fig.data[3].y[-1]],\n",
        "                     mode = 'markers + text',\n",
        "                     marker = {'color':'#FF5F1F', 'size':5},\n",
        "                     showlegend = False,\n",
        "                     text = ['{:.0%}'.format(fig.data[3].y[-1], 2)],\n",
        "                     textposition='middle right', row=3, col=1)\n",
        "\n",
        "fig.add_scatter(x = [fig.data[4].x[-1]], y = [fig.data[4].y[-1]],\n",
        "                     mode = 'markers + text',\n",
        "                     marker = {'color':'#FAC898', 'size':5},\n",
        "                     showlegend = False,\n",
        "                     text = ['{:.0%}'.format(fig.data[4].y[-1], 2)],\n",
        "                     textposition='middle right', row=3, col=1)\n",
        "\n",
        "fig.layout.yaxis3.tickformat=',.0%'\n",
        "\n",
        "fig.show()"
      ],
      "execution_count": null,
      "outputs": []
    },
    {
      "cell_type": "markdown",
      "metadata": {
        "id": "O9UU1FxKXETf"
      },
      "source": [
        "## Obrigado!!!\n",
        "\n",
        "Obrigado pessoal. Espero que tenham gostado do minicurso. Qualquer dúvida podde entrar em contato através do e-mail: adolfo@data2learning.com, pelo instagram [@profadolfoguimaraes](https://www.instagram.com/profadolfoguimaraes) ou pelo twitter [@adolfoguimaraes](https://www.twitter.com/adolfoguimaraes). \n",
        "\n",
        "![](https://camo.githubusercontent.com/3f58ec4dda7befb5b84a5ccfe1d846eb17a73b75/68747470733a2f2f6d656469612e67697068792e636f6d2f6d656469612f336f383578416f6a4e73686d7a6c795379632f67697068792e6769663f6369643d6563663035653437727739626d736e62686d6565346e723539766c786a796c6566667172397331646775397238626f37267269643d67697068792e6769662663743d67)\n",
        "\n",
        "Até a próxima :)"
      ]
    }
  ]
}